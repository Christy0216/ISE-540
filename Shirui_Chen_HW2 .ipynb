{
 "cells": [
  {
   "cell_type": "markdown",
   "id": "75866754",
   "metadata": {},
   "source": [
    "Name: Shirui Chen\n",
    "ID: 6958613091"
   ]
  },
  {
   "cell_type": "code",
   "execution_count": 1,
   "id": "92a69f5a",
   "metadata": {},
   "outputs": [],
   "source": [
    "import sklearn\n",
    "from sklearn.datasets import *\n",
    "from sklearn import tree\n",
    "from sklearn.preprocessing import OneHotEncoder\n",
    "import pandas as pd\n",
    "import numpy as np\n",
    "import random\n",
    "from sklearn import tree\n",
    "from sklearn.naive_bayes import BernoulliNB\n",
    "from sklearn.preprocessing import StandardScaler\n",
    "from sklearn.linear_model import SGDClassifier\n",
    "from sklearn.pipeline import make_pipeline\n",
    "from sklearn.svm import SVC\n",
    "from scipy import stats\n",
    "import warnings\n",
    "warnings.filterwarnings(\"ignore\")"
   ]
  },
  {
   "cell_type": "code",
   "execution_count": 2,
   "id": "0f7af8c7",
   "metadata": {},
   "outputs": [],
   "source": [
    "def encode_record_into_vector(record):\n",
    "    categorical_cols = df.select_dtypes(include='object')\n",
    "    encoder = OneHotEncoder(handle_unknown='ignore')\n",
    "    encoder_df = pd.DataFrame(encoder.fit_transform(categorical_cols).toarray())\n",
    "    encoder.get_feature_names()\n",
    "    encoder_df.columns = encoder.get_feature_names()\n",
    "    final_df = df.join(encoder_df) \n",
    "    final_df.drop(categorical_cols, axis=1, inplace=True)\n",
    "    x = pd.DataFrame(final_df.iloc[record,:])\n",
    "    return np.array(x)"
   ]
  },
  {
   "cell_type": "code",
   "execution_count": 3,
   "id": "63d7d663",
   "metadata": {},
   "outputs": [],
   "source": [
    "def parse_file_into_matrix(file_name):\n",
    "    global df\n",
    "    global x\n",
    "    global y\n",
    "    df = pd.read_csv(file_name, delimiter = \";\")\n",
    "    y = pd.DataFrame(df['y'].map({'yes': 1, 'no': 0}))\n",
    "    y = np.asmatrix(y)\n",
    "    df.drop('y',axis=1, inplace=True)\n",
    "    record = df.index.tolist()\n",
    "    x = np.asmatrix(encode_record_into_vector(record))\n",
    "    return (x, y)"
   ]
  },
  {
   "cell_type": "code",
   "execution_count": 4,
   "id": "9915b77a",
   "metadata": {},
   "outputs": [
    {
     "data": {
      "text/plain": [
       "(matrix([[ 56., 261.,   1., ...,   0.,   1.,   0.],\n",
       "         [ 57., 149.,   1., ...,   0.,   1.,   0.],\n",
       "         [ 37., 226.,   1., ...,   0.,   1.,   0.],\n",
       "         ...,\n",
       "         [ 56., 189.,   2., ...,   0.,   1.,   0.],\n",
       "         [ 44., 442.,   1., ...,   0.,   1.,   0.],\n",
       "         [ 74., 239.,   3., ...,   1.,   0.,   0.]]),\n",
       " matrix([[0],\n",
       "         [0],\n",
       "         [0],\n",
       "         ...,\n",
       "         [0],\n",
       "         [1],\n",
       "         [0]]))"
      ]
     },
     "execution_count": 4,
     "metadata": {},
     "output_type": "execute_result"
    }
   ],
   "source": [
    "parse_file_into_matrix(\"/Users/shiruichen/Desktop/2022 Fall/ISE 540/HW2/bank-additional-full.csv\")"
   ]
  },
  {
   "cell_type": "code",
   "execution_count": 5,
   "id": "d701ebaf",
   "metadata": {},
   "outputs": [
    {
     "name": "stdout",
     "output_type": "stream",
     "text": [
      "(41188, 63)\n",
      "(41188, 1)\n"
     ]
    }
   ],
   "source": [
    "print(x.shape)\n",
    "print(y.shape)"
   ]
  },
  {
   "cell_type": "markdown",
   "id": "c5cf0513",
   "metadata": {},
   "source": [
    "D = 41188\n",
    "P = 63"
   ]
  },
  {
   "cell_type": "code",
   "execution_count": 6,
   "id": "c15082ae",
   "metadata": {},
   "outputs": [
    {
     "data": {
      "text/plain": [
       "matrix([[4640]])"
      ]
     },
     "execution_count": 6,
     "metadata": {},
     "output_type": "execute_result"
    }
   ],
   "source": [
    "sum(y == 1)"
   ]
  },
  {
   "cell_type": "code",
   "execution_count": 7,
   "id": "2f3627a7",
   "metadata": {},
   "outputs": [
    {
     "data": {
      "text/plain": [
       "matrix([[36548]])"
      ]
     },
     "execution_count": 7,
     "metadata": {},
     "output_type": "execute_result"
    }
   ],
   "source": [
    "sum(y == 0)"
   ]
  },
  {
   "cell_type": "markdown",
   "id": "a87e39e4",
   "metadata": {},
   "source": [
    "Q1\n",
    "There are 4640 positive instances and 36548 negative instances in the dataset."
   ]
  },
  {
   "cell_type": "markdown",
   "id": "e216a409",
   "metadata": {},
   "source": [
    "def x_y_for_running_tests():\n",
    "    x, y = load_digits(2, True) \n",
    "    return x, y"
   ]
  },
  {
   "cell_type": "markdown",
   "id": "9aecdd4c",
   "metadata": {},
   "source": [
    "x, y=x_y_for_running_tests()\n",
    "print(x)\n",
    "print(y)"
   ]
  },
  {
   "cell_type": "code",
   "execution_count": 8,
   "id": "c5095d5d",
   "metadata": {},
   "outputs": [],
   "source": [
    "def training_testing_split(x, y, training_ratio):\n",
    "    y_df = pd.DataFrame(y)\n",
    "    y_df.columns = ['y']\n",
    "    y1 = y_df[y_df['y'] == 1]\n",
    "    y0 = y_df[y_df['y'] == 0]\n",
    "    s1 = np.array(y1.index)\n",
    "    s0 = np.array(y0.index) \n",
    "    random.shuffle(s1)\n",
    "    random.shuffle(s0)\n",
    "    train1 = s1[:int(len(s1)*training_ratio)]\n",
    "    test1 = s1[int(len(s1)*training_ratio):]\n",
    "    train0 = s0[:int(len(s0)*training_ratio)]\n",
    "    test0 = s0[int(len(s0)*training_ratio):]\n",
    "    x_train = np.concatenate([x[train1], x[train0]])\n",
    "    y_train = np.concatenate([y[train1], y[train0]])\n",
    "    x_test = np.concatenate([x[test1], x[test0]])\n",
    "    y_test = np.concatenate([y[test1], y[test0]])\n",
    "    return (x_train, y_train, x_test, y_test)"
   ]
  },
  {
   "cell_type": "code",
   "execution_count": 9,
   "id": "2896abe3",
   "metadata": {},
   "outputs": [
    {
     "name": "stdout",
     "output_type": "stream",
     "text": [
      "[[0.11265554]]\n",
      "[[0.1126487]]\n"
     ]
    }
   ],
   "source": [
    "x_train, y_train, x_test, y_test = training_testing_split(x, y, 0.8)\n",
    "print(sum(y_train == 1)/len(y_train))\n",
    "print(sum(y_test == 1)/len(y_test))"
   ]
  },
  {
   "cell_type": "code",
   "execution_count": 10,
   "id": "03baa876",
   "metadata": {},
   "outputs": [
    {
     "name": "stdout",
     "output_type": "stream",
     "text": [
      "[[0.11265417]]\n",
      "[[0.11265417]]\n"
     ]
    }
   ],
   "source": [
    "x_train, y_train, x_test, y_test = training_testing_split(x, y, 0.5)\n",
    "print(sum(y_train == 1)/len(y_train))\n",
    "print(sum(y_test == 1)/len(y_test))"
   ]
  },
  {
   "cell_type": "code",
   "execution_count": 11,
   "id": "28e4f0ee",
   "metadata": {},
   "outputs": [
    {
     "name": "stdout",
     "output_type": "stream",
     "text": [
      "[[0.11265782]]\n",
      "[[0.11265261]]\n"
     ]
    }
   ],
   "source": [
    "x_train, y_train, x_test, y_test = training_testing_split(x, y, 0.3)\n",
    "print(sum(y_train == 1)/len(y_train))\n",
    "print(sum(y_test == 1)/len(y_test))"
   ]
  },
  {
   "cell_type": "code",
   "execution_count": 12,
   "id": "3ac20de0",
   "metadata": {},
   "outputs": [
    {
     "name": "stdout",
     "output_type": "stream",
     "text": [
      "[[0.11267606]]\n",
      "[[0.11265174]]\n"
     ]
    }
   ],
   "source": [
    "x_train, y_train, x_test, y_test = training_testing_split(x, y, 0.1)\n",
    "print(sum(y_train == 1)/len(y_train))\n",
    "print(sum(y_test == 1)/len(y_test))"
   ]
  },
  {
   "cell_type": "markdown",
   "id": "d780b51f",
   "metadata": {},
   "source": [
    "Q2\n",
    "The ratio of positive instances in the test dataset to the total number of instances in the test dataset is 0.11."
   ]
  },
  {
   "cell_type": "code",
   "execution_count": 13,
   "id": "6ff37e66",
   "metadata": {},
   "outputs": [],
   "source": [
    "def train_models(x_train,y_train,model):\n",
    "    if model == 'decision_tree':\n",
    "        clf = tree.DecisionTreeClassifier()\n",
    "        clf = clf.fit(x_train, y_train)\n",
    "        return clf\n",
    "    elif model == 'naive_bayes':\n",
    "        clf = BernoulliNB()\n",
    "        clf = clf.fit(x_train, y_train)\n",
    "        return clf\n",
    "    elif model == 'linear_classifier':\n",
    "        clf = make_pipeline(StandardScaler(), SGDClassifier(loss='squared_loss'))\n",
    "        clf.fit(x_train, y_train)\n",
    "        return clf\n",
    "    elif model == 'support_vector_classification':\n",
    "        clf = svm.SVC()\n",
    "        clf = clf.fit(x_train, y_train)\n",
    "        return clf"
   ]
  },
  {
   "cell_type": "code",
   "execution_count": 14,
   "id": "328e8a9b",
   "metadata": {},
   "outputs": [],
   "source": [
    "def evaluate_model(x_test, y_test, model):\n",
    "    y_predict = model.predict(x_test)\n",
    "    return sklearn.metrics.f1_score(y_test, y_predict)"
   ]
  },
  {
   "cell_type": "code",
   "execution_count": 26,
   "id": "a31335b2",
   "metadata": {},
   "outputs": [],
   "source": [
    "def table_gen(ratio):\n",
    "    dt=[]\n",
    "    nb=[]\n",
    "    lc=[]\n",
    "    for i in range(1,11,1):\n",
    "        np.random.seed(i)\n",
    "        x_train, y_train, x_test, y_test=training_testing_split(x, y, ratio)\n",
    "        model1=train_models(x_train,y_train,'decision_tree')\n",
    "        f1_dt=evaluate_model(x_test, y_test, model1)\n",
    "        dt.append(f1_dt)\n",
    "        model2=train_models(x_train,y_train,'naive_bayes')\n",
    "        f1_nb=evaluate_model(x_test, y_test, model2)\n",
    "        nb.append(f1_nb)\n",
    "        model3=train_models(x_train,y_train,'linear_classifier')\n",
    "        f1_lc=evaluate_model(x_test, y_test, model3)\n",
    "        lc.append(f1_lc)\n",
    "    table=pd.concat([pd.DataFrame(dt),pd.DataFrame(nb),pd.DataFrame(lc)],axis=1)\n",
    "    table.columns=['decision_tree','naive_bayes','linear_classifier']\n",
    "    table.index.names=['trial']\n",
    "    table.index += 1\n",
    "    return table"
   ]
  },
  {
   "cell_type": "code",
   "execution_count": 27,
   "id": "7cb65009",
   "metadata": {},
   "outputs": [
    {
     "data": {
      "text/html": [
       "<div>\n",
       "<style scoped>\n",
       "    .dataframe tbody tr th:only-of-type {\n",
       "        vertical-align: middle;\n",
       "    }\n",
       "\n",
       "    .dataframe tbody tr th {\n",
       "        vertical-align: top;\n",
       "    }\n",
       "\n",
       "    .dataframe thead th {\n",
       "        text-align: right;\n",
       "    }\n",
       "</style>\n",
       "<table border=\"1\" class=\"dataframe\">\n",
       "  <thead>\n",
       "    <tr style=\"text-align: right;\">\n",
       "      <th></th>\n",
       "      <th>decision_tree</th>\n",
       "      <th>naive_bayes</th>\n",
       "      <th>linear_classifier</th>\n",
       "    </tr>\n",
       "    <tr>\n",
       "      <th>trial</th>\n",
       "      <th></th>\n",
       "      <th></th>\n",
       "      <th></th>\n",
       "    </tr>\n",
       "  </thead>\n",
       "  <tbody>\n",
       "    <tr>\n",
       "      <th>1</th>\n",
       "      <td>0.503719</td>\n",
       "      <td>0.373518</td>\n",
       "      <td>0.220461</td>\n",
       "    </tr>\n",
       "    <tr>\n",
       "      <th>2</th>\n",
       "      <td>0.490603</td>\n",
       "      <td>0.384022</td>\n",
       "      <td>0.229786</td>\n",
       "    </tr>\n",
       "    <tr>\n",
       "      <th>3</th>\n",
       "      <td>0.495598</td>\n",
       "      <td>0.366310</td>\n",
       "      <td>0.206076</td>\n",
       "    </tr>\n",
       "    <tr>\n",
       "      <th>4</th>\n",
       "      <td>0.489517</td>\n",
       "      <td>0.368221</td>\n",
       "      <td>0.163798</td>\n",
       "    </tr>\n",
       "    <tr>\n",
       "      <th>5</th>\n",
       "      <td>0.504231</td>\n",
       "      <td>0.375768</td>\n",
       "      <td>0.206934</td>\n",
       "    </tr>\n",
       "    <tr>\n",
       "      <th>6</th>\n",
       "      <td>0.515899</td>\n",
       "      <td>0.378195</td>\n",
       "      <td>0.212745</td>\n",
       "    </tr>\n",
       "    <tr>\n",
       "      <th>7</th>\n",
       "      <td>0.504597</td>\n",
       "      <td>0.371211</td>\n",
       "      <td>0.191650</td>\n",
       "    </tr>\n",
       "    <tr>\n",
       "      <th>8</th>\n",
       "      <td>0.504675</td>\n",
       "      <td>0.369038</td>\n",
       "      <td>0.184846</td>\n",
       "    </tr>\n",
       "    <tr>\n",
       "      <th>9</th>\n",
       "      <td>0.486187</td>\n",
       "      <td>0.380212</td>\n",
       "      <td>0.203440</td>\n",
       "    </tr>\n",
       "    <tr>\n",
       "      <th>10</th>\n",
       "      <td>0.499312</td>\n",
       "      <td>0.368777</td>\n",
       "      <td>0.192745</td>\n",
       "    </tr>\n",
       "  </tbody>\n",
       "</table>\n",
       "</div>"
      ],
      "text/plain": [
       "       decision_tree  naive_bayes  linear_classifier\n",
       "trial                                               \n",
       "1           0.503719     0.373518           0.220461\n",
       "2           0.490603     0.384022           0.229786\n",
       "3           0.495598     0.366310           0.206076\n",
       "4           0.489517     0.368221           0.163798\n",
       "5           0.504231     0.375768           0.206934\n",
       "6           0.515899     0.378195           0.212745\n",
       "7           0.504597     0.371211           0.191650\n",
       "8           0.504675     0.369038           0.184846\n",
       "9           0.486187     0.380212           0.203440\n",
       "10          0.499312     0.368777           0.192745"
      ]
     },
     "execution_count": 27,
     "metadata": {},
     "output_type": "execute_result"
    }
   ],
   "source": [
    "df1 = table_gen(0.1)\n",
    "df1"
   ]
  },
  {
   "cell_type": "code",
   "execution_count": 28,
   "id": "af37d779",
   "metadata": {},
   "outputs": [
    {
     "data": {
      "text/html": [
       "<div>\n",
       "<style scoped>\n",
       "    .dataframe tbody tr th:only-of-type {\n",
       "        vertical-align: middle;\n",
       "    }\n",
       "\n",
       "    .dataframe tbody tr th {\n",
       "        vertical-align: top;\n",
       "    }\n",
       "\n",
       "    .dataframe thead th {\n",
       "        text-align: right;\n",
       "    }\n",
       "</style>\n",
       "<table border=\"1\" class=\"dataframe\">\n",
       "  <thead>\n",
       "    <tr style=\"text-align: right;\">\n",
       "      <th></th>\n",
       "      <th>decision_tree</th>\n",
       "      <th>naive_bayes</th>\n",
       "      <th>linear_classifier</th>\n",
       "    </tr>\n",
       "    <tr>\n",
       "      <th>trial</th>\n",
       "      <th></th>\n",
       "      <th></th>\n",
       "      <th></th>\n",
       "    </tr>\n",
       "  </thead>\n",
       "  <tbody>\n",
       "    <tr>\n",
       "      <th>1</th>\n",
       "      <td>0.524343</td>\n",
       "      <td>0.381388</td>\n",
       "      <td>0.160423</td>\n",
       "    </tr>\n",
       "    <tr>\n",
       "      <th>2</th>\n",
       "      <td>0.515092</td>\n",
       "      <td>0.374466</td>\n",
       "      <td>0.137006</td>\n",
       "    </tr>\n",
       "    <tr>\n",
       "      <th>3</th>\n",
       "      <td>0.530485</td>\n",
       "      <td>0.372336</td>\n",
       "      <td>0.198196</td>\n",
       "    </tr>\n",
       "    <tr>\n",
       "      <th>4</th>\n",
       "      <td>0.494839</td>\n",
       "      <td>0.375176</td>\n",
       "      <td>0.171574</td>\n",
       "    </tr>\n",
       "    <tr>\n",
       "      <th>5</th>\n",
       "      <td>0.509272</td>\n",
       "      <td>0.375409</td>\n",
       "      <td>0.206275</td>\n",
       "    </tr>\n",
       "    <tr>\n",
       "      <th>6</th>\n",
       "      <td>0.514320</td>\n",
       "      <td>0.374851</td>\n",
       "      <td>0.219141</td>\n",
       "    </tr>\n",
       "    <tr>\n",
       "      <th>7</th>\n",
       "      <td>0.518031</td>\n",
       "      <td>0.379347</td>\n",
       "      <td>0.187084</td>\n",
       "    </tr>\n",
       "    <tr>\n",
       "      <th>8</th>\n",
       "      <td>0.509938</td>\n",
       "      <td>0.373731</td>\n",
       "      <td>0.182348</td>\n",
       "    </tr>\n",
       "    <tr>\n",
       "      <th>9</th>\n",
       "      <td>0.504942</td>\n",
       "      <td>0.378337</td>\n",
       "      <td>0.146944</td>\n",
       "    </tr>\n",
       "    <tr>\n",
       "      <th>10</th>\n",
       "      <td>0.507672</td>\n",
       "      <td>0.382754</td>\n",
       "      <td>0.199704</td>\n",
       "    </tr>\n",
       "  </tbody>\n",
       "</table>\n",
       "</div>"
      ],
      "text/plain": [
       "       decision_tree  naive_bayes  linear_classifier\n",
       "trial                                               \n",
       "1           0.524343     0.381388           0.160423\n",
       "2           0.515092     0.374466           0.137006\n",
       "3           0.530485     0.372336           0.198196\n",
       "4           0.494839     0.375176           0.171574\n",
       "5           0.509272     0.375409           0.206275\n",
       "6           0.514320     0.374851           0.219141\n",
       "7           0.518031     0.379347           0.187084\n",
       "8           0.509938     0.373731           0.182348\n",
       "9           0.504942     0.378337           0.146944\n",
       "10          0.507672     0.382754           0.199704"
      ]
     },
     "execution_count": 28,
     "metadata": {},
     "output_type": "execute_result"
    }
   ],
   "source": [
    "df2 = table_gen(0.3)\n",
    "df2"
   ]
  },
  {
   "cell_type": "code",
   "execution_count": 29,
   "id": "68443f80",
   "metadata": {},
   "outputs": [
    {
     "data": {
      "text/html": [
       "<div>\n",
       "<style scoped>\n",
       "    .dataframe tbody tr th:only-of-type {\n",
       "        vertical-align: middle;\n",
       "    }\n",
       "\n",
       "    .dataframe tbody tr th {\n",
       "        vertical-align: top;\n",
       "    }\n",
       "\n",
       "    .dataframe thead th {\n",
       "        text-align: right;\n",
       "    }\n",
       "</style>\n",
       "<table border=\"1\" class=\"dataframe\">\n",
       "  <thead>\n",
       "    <tr style=\"text-align: right;\">\n",
       "      <th></th>\n",
       "      <th>decision_tree</th>\n",
       "      <th>naive_bayes</th>\n",
       "      <th>linear_classifier</th>\n",
       "    </tr>\n",
       "    <tr>\n",
       "      <th>trial</th>\n",
       "      <th></th>\n",
       "      <th></th>\n",
       "      <th></th>\n",
       "    </tr>\n",
       "  </thead>\n",
       "  <tbody>\n",
       "    <tr>\n",
       "      <th>1</th>\n",
       "      <td>0.525299</td>\n",
       "      <td>0.395020</td>\n",
       "      <td>0.155352</td>\n",
       "    </tr>\n",
       "    <tr>\n",
       "      <th>2</th>\n",
       "      <td>0.508991</td>\n",
       "      <td>0.369497</td>\n",
       "      <td>0.207066</td>\n",
       "    </tr>\n",
       "    <tr>\n",
       "      <th>3</th>\n",
       "      <td>0.514650</td>\n",
       "      <td>0.378788</td>\n",
       "      <td>0.195657</td>\n",
       "    </tr>\n",
       "    <tr>\n",
       "      <th>4</th>\n",
       "      <td>0.508846</td>\n",
       "      <td>0.367795</td>\n",
       "      <td>0.166355</td>\n",
       "    </tr>\n",
       "    <tr>\n",
       "      <th>5</th>\n",
       "      <td>0.509638</td>\n",
       "      <td>0.378998</td>\n",
       "      <td>0.213154</td>\n",
       "    </tr>\n",
       "    <tr>\n",
       "      <th>6</th>\n",
       "      <td>0.504551</td>\n",
       "      <td>0.385480</td>\n",
       "      <td>0.186960</td>\n",
       "    </tr>\n",
       "    <tr>\n",
       "      <th>7</th>\n",
       "      <td>0.521091</td>\n",
       "      <td>0.370820</td>\n",
       "      <td>0.464652</td>\n",
       "    </tr>\n",
       "    <tr>\n",
       "      <th>8</th>\n",
       "      <td>0.511349</td>\n",
       "      <td>0.387808</td>\n",
       "      <td>0.144465</td>\n",
       "    </tr>\n",
       "    <tr>\n",
       "      <th>9</th>\n",
       "      <td>0.519805</td>\n",
       "      <td>0.381163</td>\n",
       "      <td>0.208780</td>\n",
       "    </tr>\n",
       "    <tr>\n",
       "      <th>10</th>\n",
       "      <td>0.504535</td>\n",
       "      <td>0.380144</td>\n",
       "      <td>0.189859</td>\n",
       "    </tr>\n",
       "  </tbody>\n",
       "</table>\n",
       "</div>"
      ],
      "text/plain": [
       "       decision_tree  naive_bayes  linear_classifier\n",
       "trial                                               \n",
       "1           0.525299     0.395020           0.155352\n",
       "2           0.508991     0.369497           0.207066\n",
       "3           0.514650     0.378788           0.195657\n",
       "4           0.508846     0.367795           0.166355\n",
       "5           0.509638     0.378998           0.213154\n",
       "6           0.504551     0.385480           0.186960\n",
       "7           0.521091     0.370820           0.464652\n",
       "8           0.511349     0.387808           0.144465\n",
       "9           0.519805     0.381163           0.208780\n",
       "10          0.504535     0.380144           0.189859"
      ]
     },
     "execution_count": 29,
     "metadata": {},
     "output_type": "execute_result"
    }
   ],
   "source": [
    "df3 = table_gen(0.5)\n",
    "df3"
   ]
  },
  {
   "cell_type": "code",
   "execution_count": 30,
   "id": "08c328fd",
   "metadata": {},
   "outputs": [
    {
     "data": {
      "text/html": [
       "<div>\n",
       "<style scoped>\n",
       "    .dataframe tbody tr th:only-of-type {\n",
       "        vertical-align: middle;\n",
       "    }\n",
       "\n",
       "    .dataframe tbody tr th {\n",
       "        vertical-align: top;\n",
       "    }\n",
       "\n",
       "    .dataframe thead th {\n",
       "        text-align: right;\n",
       "    }\n",
       "</style>\n",
       "<table border=\"1\" class=\"dataframe\">\n",
       "  <thead>\n",
       "    <tr style=\"text-align: right;\">\n",
       "      <th></th>\n",
       "      <th>decision_tree</th>\n",
       "      <th>naive_bayes</th>\n",
       "      <th>linear_classifier</th>\n",
       "    </tr>\n",
       "    <tr>\n",
       "      <th>trial</th>\n",
       "      <th></th>\n",
       "      <th></th>\n",
       "      <th></th>\n",
       "    </tr>\n",
       "  </thead>\n",
       "  <tbody>\n",
       "    <tr>\n",
       "      <th>1</th>\n",
       "      <td>0.528809</td>\n",
       "      <td>0.409497</td>\n",
       "      <td>0.197537</td>\n",
       "    </tr>\n",
       "    <tr>\n",
       "      <th>2</th>\n",
       "      <td>0.502356</td>\n",
       "      <td>0.366450</td>\n",
       "      <td>0.213747</td>\n",
       "    </tr>\n",
       "    <tr>\n",
       "      <th>3</th>\n",
       "      <td>0.511514</td>\n",
       "      <td>0.394178</td>\n",
       "      <td>0.184003</td>\n",
       "    </tr>\n",
       "    <tr>\n",
       "      <th>4</th>\n",
       "      <td>0.513820</td>\n",
       "      <td>0.394427</td>\n",
       "      <td>0.145087</td>\n",
       "    </tr>\n",
       "    <tr>\n",
       "      <th>5</th>\n",
       "      <td>0.533523</td>\n",
       "      <td>0.381070</td>\n",
       "      <td>0.223032</td>\n",
       "    </tr>\n",
       "    <tr>\n",
       "      <th>6</th>\n",
       "      <td>0.522946</td>\n",
       "      <td>0.376865</td>\n",
       "      <td>0.136488</td>\n",
       "    </tr>\n",
       "    <tr>\n",
       "      <th>7</th>\n",
       "      <td>0.523066</td>\n",
       "      <td>0.373878</td>\n",
       "      <td>0.195846</td>\n",
       "    </tr>\n",
       "    <tr>\n",
       "      <th>8</th>\n",
       "      <td>0.505407</td>\n",
       "      <td>0.382362</td>\n",
       "      <td>0.196743</td>\n",
       "    </tr>\n",
       "    <tr>\n",
       "      <th>9</th>\n",
       "      <td>0.508778</td>\n",
       "      <td>0.366853</td>\n",
       "      <td>0.181402</td>\n",
       "    </tr>\n",
       "    <tr>\n",
       "      <th>10</th>\n",
       "      <td>0.505957</td>\n",
       "      <td>0.374962</td>\n",
       "      <td>0.188369</td>\n",
       "    </tr>\n",
       "  </tbody>\n",
       "</table>\n",
       "</div>"
      ],
      "text/plain": [
       "       decision_tree  naive_bayes  linear_classifier\n",
       "trial                                               \n",
       "1           0.528809     0.409497           0.197537\n",
       "2           0.502356     0.366450           0.213747\n",
       "3           0.511514     0.394178           0.184003\n",
       "4           0.513820     0.394427           0.145087\n",
       "5           0.533523     0.381070           0.223032\n",
       "6           0.522946     0.376865           0.136488\n",
       "7           0.523066     0.373878           0.195846\n",
       "8           0.505407     0.382362           0.196743\n",
       "9           0.508778     0.366853           0.181402\n",
       "10          0.505957     0.374962           0.188369"
      ]
     },
     "execution_count": 30,
     "metadata": {},
     "output_type": "execute_result"
    }
   ],
   "source": [
    "df4 = table_gen(0.7)\n",
    "df4"
   ]
  },
  {
   "cell_type": "code",
   "execution_count": 31,
   "id": "0bc0e12a",
   "metadata": {},
   "outputs": [
    {
     "data": {
      "text/html": [
       "<div>\n",
       "<style scoped>\n",
       "    .dataframe tbody tr th:only-of-type {\n",
       "        vertical-align: middle;\n",
       "    }\n",
       "\n",
       "    .dataframe tbody tr th {\n",
       "        vertical-align: top;\n",
       "    }\n",
       "\n",
       "    .dataframe thead th {\n",
       "        text-align: right;\n",
       "    }\n",
       "</style>\n",
       "<table border=\"1\" class=\"dataframe\">\n",
       "  <thead>\n",
       "    <tr style=\"text-align: right;\">\n",
       "      <th></th>\n",
       "      <th>decision_tree</th>\n",
       "      <th>naive_bayes</th>\n",
       "      <th>linear_classifier</th>\n",
       "    </tr>\n",
       "    <tr>\n",
       "      <th>trial</th>\n",
       "      <th></th>\n",
       "      <th></th>\n",
       "      <th></th>\n",
       "    </tr>\n",
       "  </thead>\n",
       "  <tbody>\n",
       "    <tr>\n",
       "      <th>1</th>\n",
       "      <td>0.540481</td>\n",
       "      <td>0.375114</td>\n",
       "      <td>0.205660</td>\n",
       "    </tr>\n",
       "    <tr>\n",
       "      <th>2</th>\n",
       "      <td>0.506864</td>\n",
       "      <td>0.384758</td>\n",
       "      <td>0.194628</td>\n",
       "    </tr>\n",
       "    <tr>\n",
       "      <th>3</th>\n",
       "      <td>0.528616</td>\n",
       "      <td>0.382544</td>\n",
       "      <td>0.182270</td>\n",
       "    </tr>\n",
       "    <tr>\n",
       "      <th>4</th>\n",
       "      <td>0.521186</td>\n",
       "      <td>0.388246</td>\n",
       "      <td>0.170624</td>\n",
       "    </tr>\n",
       "    <tr>\n",
       "      <th>5</th>\n",
       "      <td>0.522466</td>\n",
       "      <td>0.400371</td>\n",
       "      <td>0.210486</td>\n",
       "    </tr>\n",
       "    <tr>\n",
       "      <th>6</th>\n",
       "      <td>0.470718</td>\n",
       "      <td>0.372401</td>\n",
       "      <td>0.164309</td>\n",
       "    </tr>\n",
       "    <tr>\n",
       "      <th>7</th>\n",
       "      <td>0.492179</td>\n",
       "      <td>0.362292</td>\n",
       "      <td>0.125609</td>\n",
       "    </tr>\n",
       "    <tr>\n",
       "      <th>8</th>\n",
       "      <td>0.566879</td>\n",
       "      <td>0.375912</td>\n",
       "      <td>0.200447</td>\n",
       "    </tr>\n",
       "    <tr>\n",
       "      <th>9</th>\n",
       "      <td>0.472222</td>\n",
       "      <td>0.366300</td>\n",
       "      <td>0.216006</td>\n",
       "    </tr>\n",
       "    <tr>\n",
       "      <th>10</th>\n",
       "      <td>0.501062</td>\n",
       "      <td>0.364791</td>\n",
       "      <td>0.148395</td>\n",
       "    </tr>\n",
       "  </tbody>\n",
       "</table>\n",
       "</div>"
      ],
      "text/plain": [
       "       decision_tree  naive_bayes  linear_classifier\n",
       "trial                                               \n",
       "1           0.540481     0.375114           0.205660\n",
       "2           0.506864     0.384758           0.194628\n",
       "3           0.528616     0.382544           0.182270\n",
       "4           0.521186     0.388246           0.170624\n",
       "5           0.522466     0.400371           0.210486\n",
       "6           0.470718     0.372401           0.164309\n",
       "7           0.492179     0.362292           0.125609\n",
       "8           0.566879     0.375912           0.200447\n",
       "9           0.472222     0.366300           0.216006\n",
       "10          0.501062     0.364791           0.148395"
      ]
     },
     "execution_count": 31,
     "metadata": {},
     "output_type": "execute_result"
    }
   ],
   "source": [
    "df5 = table_gen(0.9)\n",
    "df5"
   ]
  },
  {
   "cell_type": "markdown",
   "id": "ef09ff94",
   "metadata": {},
   "source": [
    "H0: Naive bayes is same as decision tree using the f-measure metric."
   ]
  },
  {
   "cell_type": "markdown",
   "id": "042dfd5a",
   "metadata": {},
   "source": [
    "Ha: Naive bayes is better than decision tree using the f-measure metric."
   ]
  },
  {
   "cell_type": "markdown",
   "id": "1cd3dec9",
   "metadata": {},
   "source": [
    "The test I used is paired test, since we are comparing the results of three different models but using the same sample each time."
   ]
  },
  {
   "cell_type": "code",
   "execution_count": 32,
   "id": "d114adc2",
   "metadata": {},
   "outputs": [
    {
     "data": {
      "text/plain": [
       "(35.381901117547095, 0.99999999997155)"
      ]
     },
     "execution_count": 32,
     "metadata": {},
     "output_type": "execute_result"
    }
   ],
   "source": [
    "t1,p1=stats.ttest_rel(df1['decision_tree'], df1['naive_bayes'], alternative = 'less')\n",
    "t1,p1"
   ]
  },
  {
   "cell_type": "markdown",
   "id": "111b2280",
   "metadata": {},
   "source": [
    "When ratio is 0.1, p = 0.99 > 0.05, we cannot reject H0 and cannot accept Ha."
   ]
  },
  {
   "cell_type": "code",
   "execution_count": 33,
   "id": "3d5120d1",
   "metadata": {},
   "outputs": [
    {
     "data": {
      "text/plain": [
       "(39.623441638130885, 0.9999999999896697)"
      ]
     },
     "execution_count": 33,
     "metadata": {},
     "output_type": "execute_result"
    }
   ],
   "source": [
    "t2,p2=stats.ttest_rel(df2['decision_tree'], df2['naive_bayes'], alternative = 'less')\n",
    "t2,p2"
   ]
  },
  {
   "cell_type": "markdown",
   "id": "eb94c82b",
   "metadata": {},
   "source": [
    "When ratio is 0.3, p = 0.99 > 0.05, we cannot reject H0 and cannot accept Ha."
   ]
  },
  {
   "cell_type": "code",
   "execution_count": 34,
   "id": "4889e1aa",
   "metadata": {},
   "outputs": [
    {
     "data": {
      "text/plain": [
       "(44.30986569820096, 0.999999999996205)"
      ]
     },
     "execution_count": 34,
     "metadata": {},
     "output_type": "execute_result"
    }
   ],
   "source": [
    "t3,p3=stats.ttest_rel(df3['decision_tree'], df3['naive_bayes'], alternative = 'less')\n",
    "t3,p3"
   ]
  },
  {
   "cell_type": "markdown",
   "id": "8c7fd736",
   "metadata": {},
   "source": [
    "When ratio is 0.5, p = 0.99 > 0.05, we cannot reject H0 and cannot accept Ha."
   ]
  },
  {
   "cell_type": "code",
   "execution_count": 35,
   "id": "50e1e398",
   "metadata": {},
   "outputs": [
    {
     "data": {
      "text/plain": [
       "(31.50553170049593, 0.9999999999197727)"
      ]
     },
     "execution_count": 35,
     "metadata": {},
     "output_type": "execute_result"
    }
   ],
   "source": [
    "t4,p4=stats.ttest_rel(df4['decision_tree'], df4['naive_bayes'], alternative = 'less')\n",
    "t4,p4"
   ]
  },
  {
   "cell_type": "markdown",
   "id": "c1147dc0",
   "metadata": {},
   "source": [
    "When ratio is 0.7, p = 0.99 > 0.05, we cannot reject H0 and cannot accept Ha."
   ]
  },
  {
   "cell_type": "code",
   "execution_count": 36,
   "id": "4079cec2",
   "metadata": {},
   "outputs": [
    {
     "data": {
      "text/plain": [
       "(15.607542132755036, 0.9999999600647929)"
      ]
     },
     "execution_count": 36,
     "metadata": {},
     "output_type": "execute_result"
    }
   ],
   "source": [
    "t5,p5=stats.ttest_rel(df5['decision_tree'], df5['naive_bayes'], alternative = 'less')\n",
    "t5,p5"
   ]
  },
  {
   "cell_type": "markdown",
   "id": "e217297b",
   "metadata": {},
   "source": [
    "When ratio is 0.9, p = 0.99 > 0.05, we cannot reject H0 and cannot accept Ha."
   ]
  }
 ],
 "metadata": {
  "kernelspec": {
   "display_name": "Python 3 (ipykernel)",
   "language": "python",
   "name": "python3"
  },
  "language_info": {
   "codemirror_mode": {
    "name": "ipython",
    "version": 3
   },
   "file_extension": ".py",
   "mimetype": "text/x-python",
   "name": "python",
   "nbconvert_exporter": "python",
   "pygments_lexer": "ipython3",
   "version": "3.9.7"
  }
 },
 "nbformat": 4,
 "nbformat_minor": 5
}
