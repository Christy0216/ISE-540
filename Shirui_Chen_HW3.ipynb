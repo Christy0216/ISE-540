{
 "cells": [
  {
   "cell_type": "markdown",
   "id": "cf05a0f6",
   "metadata": {},
   "source": [
    "Name: Shirui Chen\n",
    "ID: 6958613091"
   ]
  },
  {
   "cell_type": "code",
   "execution_count": 1,
   "id": "a8450b5f",
   "metadata": {},
   "outputs": [],
   "source": [
    "import sklearn\n",
    "import numpy as np\n",
    "import pandas as pd\n",
    "from sklearn.feature_extraction.text import TfidfVectorizer\n",
    "import re\n",
    "import os\n",
    "from sklearn.model_selection import train_test_split,cross_val_score,cross_val_predict\n",
    "from sklearn.pipeline import make_pipeline\n",
    "from sklearn.model_selection import cross_validate\n",
    "from sklearn import tree\n",
    "from sklearn.naive_bayes import BernoulliNB\n",
    "from sklearn.preprocessing import StandardScaler\n",
    "from sklearn.linear_model import SGDClassifier\n",
    "from sklearn.pipeline import Pipeline\n",
    "from sklearn.ensemble import GradientBoostingClassifier\n",
    "from sklearn.neighbors import KNeighborsClassifier\n",
    "import random\n",
    "import warnings\n",
    "warnings.filterwarnings(\"ignore\")"
   ]
  },
  {
   "cell_type": "code",
   "execution_count": 2,
   "id": "febc11d2",
   "metadata": {},
   "outputs": [],
   "source": [
    "def encode_text_tfidf_vectors(in_folder='/train/', subject=False, parameter=1):\n",
    "    os.chdir(in_folder)\n",
    "    files = os.listdir(in_folder)\n",
    "    x = []\n",
    "    y = []\n",
    "    tmp = []\n",
    "\n",
    "    for file in files:\n",
    "        path = os.path.join(in_folder, file)\n",
    "        with open(path, 'r',errors='ignore') as f:\n",
    "            t = f.readlines()\n",
    "            if subject == 'True':\n",
    "                tmp.append(t[0])\n",
    "            else:\n",
    "                tmp.append(t[2])\n",
    "    vectorizer = TfidfVectorizer(min_df = parameter)\n",
    "    x = vectorizer.fit_transform(tmp)\n",
    "    for filename in files:\n",
    "        if 'legit' in filename:\n",
    "            y.append(0)\n",
    "        elif 'spmsg' in filename:\n",
    "            y.append(1)\n",
    "    return x,y"
   ]
  },
  {
   "cell_type": "code",
   "execution_count": 3,
   "id": "1e494329",
   "metadata": {},
   "outputs": [],
   "source": [
    "x,y=encode_text_tfidf_vectors('/Users/shiruichen/Desktop/2022 Fall/ISE 540/HW3/files/train')"
   ]
  },
  {
   "cell_type": "code",
   "execution_count": 4,
   "id": "11d46ebd",
   "metadata": {},
   "outputs": [
    {
     "data": {
      "text/html": [
       "<div>\n",
       "<style scoped>\n",
       "    .dataframe tbody tr th:only-of-type {\n",
       "        vertical-align: middle;\n",
       "    }\n",
       "\n",
       "    .dataframe tbody tr th {\n",
       "        vertical-align: top;\n",
       "    }\n",
       "\n",
       "    .dataframe thead th {\n",
       "        text-align: right;\n",
       "    }\n",
       "</style>\n",
       "<table border=\"1\" class=\"dataframe\">\n",
       "  <thead>\n",
       "    <tr style=\"text-align: right;\">\n",
       "      <th></th>\n",
       "      <th>0</th>\n",
       "      <th>1</th>\n",
       "      <th>2</th>\n",
       "      <th>3</th>\n",
       "      <th>4</th>\n",
       "      <th>5</th>\n",
       "      <th>6</th>\n",
       "      <th>7</th>\n",
       "      <th>8</th>\n",
       "      <th>9</th>\n",
       "      <th>...</th>\n",
       "      <th>4736</th>\n",
       "      <th>4737</th>\n",
       "      <th>4738</th>\n",
       "      <th>4739</th>\n",
       "      <th>4740</th>\n",
       "      <th>4741</th>\n",
       "      <th>4742</th>\n",
       "      <th>4743</th>\n",
       "      <th>4744</th>\n",
       "      <th>4745</th>\n",
       "    </tr>\n",
       "  </thead>\n",
       "  <tbody>\n",
       "    <tr>\n",
       "      <th>0</th>\n",
       "      <td>0.0</td>\n",
       "      <td>0.000000</td>\n",
       "      <td>0.0</td>\n",
       "      <td>0.0</td>\n",
       "      <td>0.0</td>\n",
       "      <td>0.0</td>\n",
       "      <td>0.0</td>\n",
       "      <td>0.0</td>\n",
       "      <td>0.000000</td>\n",
       "      <td>0.0</td>\n",
       "      <td>...</td>\n",
       "      <td>0.000000</td>\n",
       "      <td>0.0</td>\n",
       "      <td>0.0</td>\n",
       "      <td>0.0</td>\n",
       "      <td>0.0</td>\n",
       "      <td>0.0</td>\n",
       "      <td>0.0</td>\n",
       "      <td>0.000000</td>\n",
       "      <td>0.0</td>\n",
       "      <td>0.000000</td>\n",
       "    </tr>\n",
       "    <tr>\n",
       "      <th>1</th>\n",
       "      <td>0.0</td>\n",
       "      <td>0.000000</td>\n",
       "      <td>0.0</td>\n",
       "      <td>0.0</td>\n",
       "      <td>0.0</td>\n",
       "      <td>0.0</td>\n",
       "      <td>0.0</td>\n",
       "      <td>0.0</td>\n",
       "      <td>0.000000</td>\n",
       "      <td>0.0</td>\n",
       "      <td>...</td>\n",
       "      <td>0.000000</td>\n",
       "      <td>0.0</td>\n",
       "      <td>0.0</td>\n",
       "      <td>0.0</td>\n",
       "      <td>0.0</td>\n",
       "      <td>0.0</td>\n",
       "      <td>0.0</td>\n",
       "      <td>0.000000</td>\n",
       "      <td>0.0</td>\n",
       "      <td>0.000000</td>\n",
       "    </tr>\n",
       "    <tr>\n",
       "      <th>2</th>\n",
       "      <td>0.0</td>\n",
       "      <td>0.000000</td>\n",
       "      <td>0.0</td>\n",
       "      <td>0.0</td>\n",
       "      <td>0.0</td>\n",
       "      <td>0.0</td>\n",
       "      <td>0.0</td>\n",
       "      <td>0.0</td>\n",
       "      <td>0.000000</td>\n",
       "      <td>0.0</td>\n",
       "      <td>...</td>\n",
       "      <td>0.000000</td>\n",
       "      <td>0.0</td>\n",
       "      <td>0.0</td>\n",
       "      <td>0.0</td>\n",
       "      <td>0.0</td>\n",
       "      <td>0.0</td>\n",
       "      <td>0.0</td>\n",
       "      <td>0.000000</td>\n",
       "      <td>0.0</td>\n",
       "      <td>0.000000</td>\n",
       "    </tr>\n",
       "    <tr>\n",
       "      <th>3</th>\n",
       "      <td>0.0</td>\n",
       "      <td>0.000000</td>\n",
       "      <td>0.0</td>\n",
       "      <td>0.0</td>\n",
       "      <td>0.0</td>\n",
       "      <td>0.0</td>\n",
       "      <td>0.0</td>\n",
       "      <td>0.0</td>\n",
       "      <td>0.000000</td>\n",
       "      <td>0.0</td>\n",
       "      <td>...</td>\n",
       "      <td>0.000000</td>\n",
       "      <td>0.0</td>\n",
       "      <td>0.0</td>\n",
       "      <td>0.0</td>\n",
       "      <td>0.0</td>\n",
       "      <td>0.0</td>\n",
       "      <td>0.0</td>\n",
       "      <td>0.000000</td>\n",
       "      <td>0.0</td>\n",
       "      <td>0.000000</td>\n",
       "    </tr>\n",
       "    <tr>\n",
       "      <th>4</th>\n",
       "      <td>0.0</td>\n",
       "      <td>0.009181</td>\n",
       "      <td>0.0</td>\n",
       "      <td>0.0</td>\n",
       "      <td>0.0</td>\n",
       "      <td>0.0</td>\n",
       "      <td>0.0</td>\n",
       "      <td>0.0</td>\n",
       "      <td>0.000000</td>\n",
       "      <td>0.0</td>\n",
       "      <td>...</td>\n",
       "      <td>0.000000</td>\n",
       "      <td>0.0</td>\n",
       "      <td>0.0</td>\n",
       "      <td>0.0</td>\n",
       "      <td>0.0</td>\n",
       "      <td>0.0</td>\n",
       "      <td>0.0</td>\n",
       "      <td>0.000000</td>\n",
       "      <td>0.0</td>\n",
       "      <td>0.000000</td>\n",
       "    </tr>\n",
       "    <tr>\n",
       "      <th>...</th>\n",
       "      <td>...</td>\n",
       "      <td>...</td>\n",
       "      <td>...</td>\n",
       "      <td>...</td>\n",
       "      <td>...</td>\n",
       "      <td>...</td>\n",
       "      <td>...</td>\n",
       "      <td>...</td>\n",
       "      <td>...</td>\n",
       "      <td>...</td>\n",
       "      <td>...</td>\n",
       "      <td>...</td>\n",
       "      <td>...</td>\n",
       "      <td>...</td>\n",
       "      <td>...</td>\n",
       "      <td>...</td>\n",
       "      <td>...</td>\n",
       "      <td>...</td>\n",
       "      <td>...</td>\n",
       "      <td>...</td>\n",
       "      <td>...</td>\n",
       "    </tr>\n",
       "    <tr>\n",
       "      <th>66</th>\n",
       "      <td>0.0</td>\n",
       "      <td>0.047950</td>\n",
       "      <td>0.0</td>\n",
       "      <td>0.0</td>\n",
       "      <td>0.0</td>\n",
       "      <td>0.0</td>\n",
       "      <td>0.0</td>\n",
       "      <td>0.0</td>\n",
       "      <td>0.000000</td>\n",
       "      <td>0.0</td>\n",
       "      <td>...</td>\n",
       "      <td>0.000000</td>\n",
       "      <td>0.0</td>\n",
       "      <td>0.0</td>\n",
       "      <td>0.0</td>\n",
       "      <td>0.0</td>\n",
       "      <td>0.0</td>\n",
       "      <td>0.0</td>\n",
       "      <td>0.000000</td>\n",
       "      <td>0.0</td>\n",
       "      <td>0.000000</td>\n",
       "    </tr>\n",
       "    <tr>\n",
       "      <th>67</th>\n",
       "      <td>0.0</td>\n",
       "      <td>0.006157</td>\n",
       "      <td>0.0</td>\n",
       "      <td>0.0</td>\n",
       "      <td>0.0</td>\n",
       "      <td>0.0</td>\n",
       "      <td>0.0</td>\n",
       "      <td>0.0</td>\n",
       "      <td>0.000000</td>\n",
       "      <td>0.0</td>\n",
       "      <td>...</td>\n",
       "      <td>0.000000</td>\n",
       "      <td>0.0</td>\n",
       "      <td>0.0</td>\n",
       "      <td>0.0</td>\n",
       "      <td>0.0</td>\n",
       "      <td>0.0</td>\n",
       "      <td>0.0</td>\n",
       "      <td>0.006531</td>\n",
       "      <td>0.0</td>\n",
       "      <td>0.007695</td>\n",
       "    </tr>\n",
       "    <tr>\n",
       "      <th>68</th>\n",
       "      <td>0.0</td>\n",
       "      <td>0.000000</td>\n",
       "      <td>0.0</td>\n",
       "      <td>0.0</td>\n",
       "      <td>0.0</td>\n",
       "      <td>0.0</td>\n",
       "      <td>0.0</td>\n",
       "      <td>0.0</td>\n",
       "      <td>0.022436</td>\n",
       "      <td>0.0</td>\n",
       "      <td>...</td>\n",
       "      <td>0.024613</td>\n",
       "      <td>0.0</td>\n",
       "      <td>0.0</td>\n",
       "      <td>0.0</td>\n",
       "      <td>0.0</td>\n",
       "      <td>0.0</td>\n",
       "      <td>0.0</td>\n",
       "      <td>0.000000</td>\n",
       "      <td>0.0</td>\n",
       "      <td>0.000000</td>\n",
       "    </tr>\n",
       "    <tr>\n",
       "      <th>69</th>\n",
       "      <td>0.0</td>\n",
       "      <td>0.000000</td>\n",
       "      <td>0.0</td>\n",
       "      <td>0.0</td>\n",
       "      <td>0.0</td>\n",
       "      <td>0.0</td>\n",
       "      <td>0.0</td>\n",
       "      <td>0.0</td>\n",
       "      <td>0.000000</td>\n",
       "      <td>0.0</td>\n",
       "      <td>...</td>\n",
       "      <td>0.000000</td>\n",
       "      <td>0.0</td>\n",
       "      <td>0.0</td>\n",
       "      <td>0.0</td>\n",
       "      <td>0.0</td>\n",
       "      <td>0.0</td>\n",
       "      <td>0.0</td>\n",
       "      <td>0.000000</td>\n",
       "      <td>0.0</td>\n",
       "      <td>0.000000</td>\n",
       "    </tr>\n",
       "    <tr>\n",
       "      <th>70</th>\n",
       "      <td>0.0</td>\n",
       "      <td>0.000000</td>\n",
       "      <td>0.0</td>\n",
       "      <td>0.0</td>\n",
       "      <td>0.0</td>\n",
       "      <td>0.0</td>\n",
       "      <td>0.0</td>\n",
       "      <td>0.0</td>\n",
       "      <td>0.000000</td>\n",
       "      <td>0.0</td>\n",
       "      <td>...</td>\n",
       "      <td>0.000000</td>\n",
       "      <td>0.0</td>\n",
       "      <td>0.0</td>\n",
       "      <td>0.0</td>\n",
       "      <td>0.0</td>\n",
       "      <td>0.0</td>\n",
       "      <td>0.0</td>\n",
       "      <td>0.000000</td>\n",
       "      <td>0.0</td>\n",
       "      <td>0.000000</td>\n",
       "    </tr>\n",
       "  </tbody>\n",
       "</table>\n",
       "<p>71 rows × 4746 columns</p>\n",
       "</div>"
      ],
      "text/plain": [
       "    0         1     2     3     4     5     6     7         8     9     ...  \\\n",
       "0    0.0  0.000000   0.0   0.0   0.0   0.0   0.0   0.0  0.000000   0.0  ...   \n",
       "1    0.0  0.000000   0.0   0.0   0.0   0.0   0.0   0.0  0.000000   0.0  ...   \n",
       "2    0.0  0.000000   0.0   0.0   0.0   0.0   0.0   0.0  0.000000   0.0  ...   \n",
       "3    0.0  0.000000   0.0   0.0   0.0   0.0   0.0   0.0  0.000000   0.0  ...   \n",
       "4    0.0  0.009181   0.0   0.0   0.0   0.0   0.0   0.0  0.000000   0.0  ...   \n",
       "..   ...       ...   ...   ...   ...   ...   ...   ...       ...   ...  ...   \n",
       "66   0.0  0.047950   0.0   0.0   0.0   0.0   0.0   0.0  0.000000   0.0  ...   \n",
       "67   0.0  0.006157   0.0   0.0   0.0   0.0   0.0   0.0  0.000000   0.0  ...   \n",
       "68   0.0  0.000000   0.0   0.0   0.0   0.0   0.0   0.0  0.022436   0.0  ...   \n",
       "69   0.0  0.000000   0.0   0.0   0.0   0.0   0.0   0.0  0.000000   0.0  ...   \n",
       "70   0.0  0.000000   0.0   0.0   0.0   0.0   0.0   0.0  0.000000   0.0  ...   \n",
       "\n",
       "        4736  4737  4738  4739  4740  4741  4742      4743  4744      4745  \n",
       "0   0.000000   0.0   0.0   0.0   0.0   0.0   0.0  0.000000   0.0  0.000000  \n",
       "1   0.000000   0.0   0.0   0.0   0.0   0.0   0.0  0.000000   0.0  0.000000  \n",
       "2   0.000000   0.0   0.0   0.0   0.0   0.0   0.0  0.000000   0.0  0.000000  \n",
       "3   0.000000   0.0   0.0   0.0   0.0   0.0   0.0  0.000000   0.0  0.000000  \n",
       "4   0.000000   0.0   0.0   0.0   0.0   0.0   0.0  0.000000   0.0  0.000000  \n",
       "..       ...   ...   ...   ...   ...   ...   ...       ...   ...       ...  \n",
       "66  0.000000   0.0   0.0   0.0   0.0   0.0   0.0  0.000000   0.0  0.000000  \n",
       "67  0.000000   0.0   0.0   0.0   0.0   0.0   0.0  0.006531   0.0  0.007695  \n",
       "68  0.024613   0.0   0.0   0.0   0.0   0.0   0.0  0.000000   0.0  0.000000  \n",
       "69  0.000000   0.0   0.0   0.0   0.0   0.0   0.0  0.000000   0.0  0.000000  \n",
       "70  0.000000   0.0   0.0   0.0   0.0   0.0   0.0  0.000000   0.0  0.000000  \n",
       "\n",
       "[71 rows x 4746 columns]"
      ]
     },
     "execution_count": 4,
     "metadata": {},
     "output_type": "execute_result"
    }
   ],
   "source": [
    "x = x.toarray()\n",
    "x = pd.DataFrame(x)\n",
    "x"
   ]
  },
  {
   "cell_type": "code",
   "execution_count": 5,
   "id": "9968d2c2",
   "metadata": {},
   "outputs": [
    {
     "data": {
      "text/html": [
       "<div>\n",
       "<style scoped>\n",
       "    .dataframe tbody tr th:only-of-type {\n",
       "        vertical-align: middle;\n",
       "    }\n",
       "\n",
       "    .dataframe tbody tr th {\n",
       "        vertical-align: top;\n",
       "    }\n",
       "\n",
       "    .dataframe thead th {\n",
       "        text-align: right;\n",
       "    }\n",
       "</style>\n",
       "<table border=\"1\" class=\"dataframe\">\n",
       "  <thead>\n",
       "    <tr style=\"text-align: right;\">\n",
       "      <th></th>\n",
       "      <th>spam</th>\n",
       "    </tr>\n",
       "  </thead>\n",
       "  <tbody>\n",
       "    <tr>\n",
       "      <th>0</th>\n",
       "      <td>1</td>\n",
       "    </tr>\n",
       "    <tr>\n",
       "      <th>1</th>\n",
       "      <td>0</td>\n",
       "    </tr>\n",
       "    <tr>\n",
       "      <th>2</th>\n",
       "      <td>1</td>\n",
       "    </tr>\n",
       "    <tr>\n",
       "      <th>3</th>\n",
       "      <td>0</td>\n",
       "    </tr>\n",
       "    <tr>\n",
       "      <th>4</th>\n",
       "      <td>0</td>\n",
       "    </tr>\n",
       "    <tr>\n",
       "      <th>...</th>\n",
       "      <td>...</td>\n",
       "    </tr>\n",
       "    <tr>\n",
       "      <th>66</th>\n",
       "      <td>0</td>\n",
       "    </tr>\n",
       "    <tr>\n",
       "      <th>67</th>\n",
       "      <td>0</td>\n",
       "    </tr>\n",
       "    <tr>\n",
       "      <th>68</th>\n",
       "      <td>0</td>\n",
       "    </tr>\n",
       "    <tr>\n",
       "      <th>69</th>\n",
       "      <td>0</td>\n",
       "    </tr>\n",
       "    <tr>\n",
       "      <th>70</th>\n",
       "      <td>0</td>\n",
       "    </tr>\n",
       "  </tbody>\n",
       "</table>\n",
       "<p>71 rows × 1 columns</p>\n",
       "</div>"
      ],
      "text/plain": [
       "    spam\n",
       "0      1\n",
       "1      0\n",
       "2      1\n",
       "3      0\n",
       "4      0\n",
       "..   ...\n",
       "66     0\n",
       "67     0\n",
       "68     0\n",
       "69     0\n",
       "70     0\n",
       "\n",
       "[71 rows x 1 columns]"
      ]
     },
     "execution_count": 5,
     "metadata": {},
     "output_type": "execute_result"
    }
   ],
   "source": [
    "y = pd.DataFrame(y)\n",
    "y.columns = ['spam']\n",
    "y"
   ]
  },
  {
   "cell_type": "code",
   "execution_count": 6,
   "id": "f0dfa4b3",
   "metadata": {},
   "outputs": [],
   "source": [
    "def train_models(x_train,y_train,x_test,y_test,model):\n",
    "    global clf\n",
    "    if model == 'decision_tree':\n",
    "        clf = tree.DecisionTreeClassifier()\n",
    "    elif model == 'naive_bayes':\n",
    "        clf = BernoulliNB()\n",
    "    elif model == 'linear_classifier':\n",
    "        clf = make_pipeline(StandardScaler(with_mean=False), SGDClassifier(loss='squared_loss'))\n",
    "    elif model == 'gradient_boosting_classifier':\n",
    "        clf = GradientBoostingClassifier()\n",
    "    elif model == 'k-nearest_neighbors':\n",
    "        clf = KNeighborsClassifier()\n",
    "    scores = cross_val_score(clf, x, y, cv=5).mean()\n",
    "    return scores"
   ]
  },
  {
   "cell_type": "code",
   "execution_count": 7,
   "id": "3f92b4e8",
   "metadata": {},
   "outputs": [],
   "source": [
    "res = pd.DataFrame(index=range(3),columns=range(5))\n",
    "res.columns = ['decision_tree','naive_bayes','linear_classifier','gradient_boosting_classifier','k-nearest_neighbors']"
   ]
  },
  {
   "cell_type": "code",
   "execution_count": 8,
   "id": "8f7e0bb8",
   "metadata": {},
   "outputs": [],
   "source": [
    "e1 = encode_text_tfidf_vectors(in_folder='/Users/shiruichen/Desktop/2022 Fall/ISE 540/HW3/files/train/', subject=False, parameter=0.9)\n",
    "x_train, x_test, y_train, y_test = train_test_split(x, y, test_size=0.2, random_state=1)\n",
    "dt1 = train_models(x_train,y_train,x_test,y_test,'decision_tree')\n",
    "nb1 = train_models(x_train,y_train,x_test,y_test,'naive_bayes')\n",
    "lc1 = train_models(x_train,y_train,x_test,y_test,'linear_classifier')\n",
    "gbc1 = train_models(x_train,y_train,x_test,y_test,'gradient_boosting_classifier')\n",
    "knn1 = train_models(x_train,y_train,x_test,y_test,'k-nearest_neighbors')\n",
    "res.iloc[0] = [dt1,nb1,lc1, gbc1, knn1]"
   ]
  },
  {
   "cell_type": "code",
   "execution_count": 9,
   "id": "5a4bcc1e",
   "metadata": {},
   "outputs": [],
   "source": [
    "e2 = encode_text_tfidf_vectors(in_folder='/Users/shiruichen/Desktop/2022 Fall/ISE 540/HW3/files/train/', subject=False, parameter = 0.8)\n",
    "x_train, x_test, y_train, y_test = train_test_split(x, y, test_size=0.2, random_state=1)\n",
    "dt2 = train_models(x_train,y_train,x_test,y_test,'decision_tree')\n",
    "nb2 = train_models(x_train,y_train,x_test,y_test,'naive_bayes')\n",
    "lc2 = train_models(x_train,y_train,x_test,y_test,'linear_classifier')\n",
    "gbc2 = train_models(x_train,y_train,x_test,y_test,'gradient_boosting_classifier')\n",
    "knn2 = train_models(x_train,y_train,x_test,y_test,'k-nearest_neighbors')\n",
    "res.iloc[1] = [dt2,nb2,lc2, gbc2, knn2]"
   ]
  },
  {
   "cell_type": "code",
   "execution_count": 10,
   "id": "7c90232b",
   "metadata": {},
   "outputs": [
    {
     "name": "stdout",
     "output_type": "stream",
     "text": [
      "  decision_tree naive_bayes linear_classifier gradient_boosting_classifier  \\\n",
      "0       0.84381    0.774286              0.44                     0.886667   \n",
      "1      0.858095    0.774286          0.619048                     0.886667   \n",
      "2      0.886667    0.774286          0.395238                     0.886667   \n",
      "\n",
      "  k-nearest_neighbors  \n",
      "0            0.802857  \n",
      "1            0.802857  \n",
      "2            0.802857  \n"
     ]
    }
   ],
   "source": [
    "e3 = encode_text_tfidf_vectors(in_folder='/Users/shiruichen/Desktop/2022 Fall/ISE 540/HW3/files/train/', subject=False, parameter = 0.7)\n",
    "x_train, x_test, y_train, y_test = train_test_split(x, y, test_size=0.2, random_state=1)\n",
    "dt3 = train_models(x_train,y_train,x_test,y_test,'decision_tree')\n",
    "nb3 = train_models(x_train,y_train,x_test,y_test,'naive_bayes')\n",
    "lc3 = train_models(x_train,y_train,x_test,y_test,'linear_classifier')\n",
    "gbc3 = train_models(x_train,y_train,x_test,y_test,'gradient_boosting_classifier')\n",
    "knn3 = train_models(x_train,y_train,x_test,y_test,'k-nearest_neighbors')\n",
    "res.iloc[2] = [dt3,nb3,lc3, gbc3, knn3]\n",
    "print(res)"
   ]
  },
  {
   "cell_type": "code",
   "execution_count": 11,
   "id": "c8a10870",
   "metadata": {},
   "outputs": [
    {
     "data": {
      "text/plain": [
       "0.8628571428571429"
      ]
     },
     "execution_count": 11,
     "metadata": {},
     "output_type": "execute_result"
    }
   ],
   "source": [
    "res['decision_tree'].mean()"
   ]
  },
  {
   "cell_type": "code",
   "execution_count": 12,
   "id": "12fa3d4f",
   "metadata": {},
   "outputs": [
    {
     "data": {
      "text/plain": [
       "0.7742857142857144"
      ]
     },
     "execution_count": 12,
     "metadata": {},
     "output_type": "execute_result"
    }
   ],
   "source": [
    "res['naive_bayes'].mean()"
   ]
  },
  {
   "cell_type": "code",
   "execution_count": 13,
   "id": "d896095b",
   "metadata": {},
   "outputs": [
    {
     "data": {
      "text/plain": [
       "0.4847619047619047"
      ]
     },
     "execution_count": 13,
     "metadata": {},
     "output_type": "execute_result"
    }
   ],
   "source": [
    "res['linear_classifier'].mean()"
   ]
  },
  {
   "cell_type": "code",
   "execution_count": 14,
   "id": "f8b6f7d1",
   "metadata": {},
   "outputs": [
    {
     "data": {
      "text/plain": [
       "0.8866666666666667"
      ]
     },
     "execution_count": 14,
     "metadata": {},
     "output_type": "execute_result"
    }
   ],
   "source": [
    "res['gradient_boosting_classifier'].mean()"
   ]
  },
  {
   "cell_type": "code",
   "execution_count": 15,
   "id": "4d2f3384",
   "metadata": {},
   "outputs": [
    {
     "data": {
      "text/plain": [
       "0.8028571428571428"
      ]
     },
     "execution_count": 15,
     "metadata": {},
     "output_type": "execute_result"
    }
   ],
   "source": [
    "res['k-nearest_neighbors'].mean()"
   ]
  },
  {
   "cell_type": "code",
   "execution_count": 16,
   "id": "5f75af26",
   "metadata": {},
   "outputs": [],
   "source": [
    "x,y = encode_text_tfidf_vectors(in_folder='/Users/shiruichen/Desktop/2022 Fall/ISE 540/HW3/files/train/')\n",
    "dc = tree.DecisionTreeClassifier()\n",
    "final_dc = dc.fit(x, y)\n",
    "gbc = GradientBoostingClassifier()\n",
    "final_gbc = gbc.fit(x,y)"
   ]
  },
  {
   "cell_type": "code",
   "execution_count": 17,
   "id": "705d1d35",
   "metadata": {},
   "outputs": [
    {
     "name": "stdout",
     "output_type": "stream",
     "text": [
      "0.7183098591549296 0.7464788732394366\n"
     ]
    }
   ],
   "source": [
    "x_test,y_test = encode_text_tfidf_vectors(in_folder='/Users/shiruichen/Desktop/2022 Fall/ISE 540/HW3/files/test/')\n",
    "x_test = pd.DataFrame(x_test.toarray())\n",
    "tmp = pd.DataFrame(columns=range(len(x.toarray()[0])-len(x_test.columns)))\n",
    "df1 = pd.concat([x_test,tmp],axis=1)\n",
    "df1 = df1.fillna(0)\n",
    "dc_acc = final_dc.score(df1,y_test)\n",
    "gbc_acc = final_gbc.score(df1,y_test)\n",
    "print(dc_acc,gbc_acc)"
   ]
  },
  {
   "cell_type": "markdown",
   "id": "810d9d1b",
   "metadata": {},
   "source": [
    "The accuracy of decision tree is 0.7183, and the accuracy of gradient boosting is 0.7465.\n",
    "The difference is smaller compared to performance difference on cross-validation."
   ]
  },
  {
   "cell_type": "code",
   "execution_count": 18,
   "id": "d91daa37",
   "metadata": {},
   "outputs": [
    {
     "data": {
      "text/plain": [
       "56"
      ]
     },
     "execution_count": 18,
     "metadata": {},
     "output_type": "execute_result"
    }
   ],
   "source": [
    "len(y_train)"
   ]
  },
  {
   "cell_type": "code",
   "execution_count": 19,
   "id": "300e7459",
   "metadata": {},
   "outputs": [
    {
     "name": "stdout",
     "output_type": "stream",
     "text": [
      "spam    10\n",
      "dtype: int64\n"
     ]
    }
   ],
   "source": [
    "print(y_train[y_train.spam==1].sum())"
   ]
  },
  {
   "cell_type": "code",
   "execution_count": 20,
   "id": "79e5f42b",
   "metadata": {},
   "outputs": [
    {
     "data": {
      "text/plain": [
       "array([[0.],\n",
       "       [0.],\n",
       "       [0.],\n",
       "       [0.],\n",
       "       [0.],\n",
       "       [1.],\n",
       "       [0.],\n",
       "       [0.],\n",
       "       [1.],\n",
       "       [0.],\n",
       "       [0.],\n",
       "       [1.],\n",
       "       [0.],\n",
       "       [0.],\n",
       "       [0.],\n",
       "       [0.],\n",
       "       [0.],\n",
       "       [0.],\n",
       "       [0.],\n",
       "       [0.],\n",
       "       [0.],\n",
       "       [0.],\n",
       "       [1.],\n",
       "       [0.],\n",
       "       [0.],\n",
       "       [0.],\n",
       "       [0.],\n",
       "       [0.],\n",
       "       [0.],\n",
       "       [0.],\n",
       "       [0.],\n",
       "       [0.],\n",
       "       [0.],\n",
       "       [0.],\n",
       "       [0.],\n",
       "       [0.],\n",
       "       [0.],\n",
       "       [0.],\n",
       "       [0.],\n",
       "       [1.],\n",
       "       [0.],\n",
       "       [0.],\n",
       "       [0.],\n",
       "       [1.],\n",
       "       [1.],\n",
       "       [0.],\n",
       "       [0.],\n",
       "       [1.],\n",
       "       [0.],\n",
       "       [0.],\n",
       "       [0.],\n",
       "       [0.],\n",
       "       [1.],\n",
       "       [0.],\n",
       "       [0.],\n",
       "       [1.]])"
      ]
     },
     "execution_count": 20,
     "metadata": {},
     "output_type": "execute_result"
    }
   ],
   "source": [
    "random.seed(1)\n",
    "arr = np.zeros(56).reshape(-1,1)\n",
    "arr[:10] = 1\n",
    "np.random.shuffle(arr)\n",
    "arr"
   ]
  },
  {
   "cell_type": "code",
   "execution_count": 21,
   "id": "44688dfb",
   "metadata": {},
   "outputs": [
    {
     "data": {
      "text/plain": [
       "0.7863636363636364"
      ]
     },
     "execution_count": 21,
     "metadata": {},
     "output_type": "execute_result"
    }
   ],
   "source": [
    "clf = BernoulliNB()\n",
    "final_model = clf.fit (x_train, arr)\n",
    "scores = cross_val_score(clf, x_train, arr, cv=5).mean()\n",
    "scores"
   ]
  },
  {
   "cell_type": "code",
   "execution_count": 22,
   "id": "fb88e547",
   "metadata": {},
   "outputs": [
    {
     "data": {
      "text/plain": [
       "0.8393939393939395"
      ]
     },
     "execution_count": 22,
     "metadata": {},
     "output_type": "execute_result"
    }
   ],
   "source": [
    "clf = KNeighborsClassifier()\n",
    "final_model = clf.fit (x_train, arr)\n",
    "scores = cross_val_score(clf, x_train, arr, cv=5).mean()\n",
    "scores"
   ]
  },
  {
   "cell_type": "code",
   "execution_count": 25,
   "id": "76073812",
   "metadata": {},
   "outputs": [],
   "source": [
    "x,y = encode_text_tfidf_vectors(in_folder='/Users/shiruichen/Desktop/2022 Fall/ISE 540/HW3/files/train/',subject=True)\n",
    "dc = tree.DecisionTreeClassifier()\n",
    "final_dc = dc.fit(x, y)\n",
    "gbc = GradientBoostingClassifier()\n",
    "final_gbc = gbc.fit(x,y)"
   ]
  },
  {
   "cell_type": "code",
   "execution_count": 26,
   "id": "5f6e4ca0",
   "metadata": {},
   "outputs": [
    {
     "name": "stdout",
     "output_type": "stream",
     "text": [
      "0.7323943661971831 0.7464788732394366\n"
     ]
    }
   ],
   "source": [
    "x_test,y_test = encode_text_tfidf_vectors(in_folder='/Users/shiruichen/Desktop/2022 Fall/ISE 540/HW3/files/test/',subject=True)\n",
    "x_test = pd.DataFrame(x_test.toarray())\n",
    "tmp = pd.DataFrame(columns=range(len(x.toarray()[0])-len(x_test.columns)))\n",
    "df1 = pd.concat([x_test,tmp],axis=1)\n",
    "df1 = df1.fillna(0)\n",
    "dc_acc = final_dc.score(df1,y_test)\n",
    "gbc_acc = final_gbc.score(df1,y_test)\n",
    "print(dc_acc,gbc_acc)"
   ]
  },
  {
   "cell_type": "markdown",
   "id": "7f2bc4ef",
   "metadata": {},
   "source": [
    "The performance doesn't improve."
   ]
  }
 ],
 "metadata": {
  "kernelspec": {
   "display_name": "Python 3 (ipykernel)",
   "language": "python",
   "name": "python3"
  },
  "language_info": {
   "codemirror_mode": {
    "name": "ipython",
    "version": 3
   },
   "file_extension": ".py",
   "mimetype": "text/x-python",
   "name": "python",
   "nbconvert_exporter": "python",
   "pygments_lexer": "ipython3",
   "version": "3.9.7"
  }
 },
 "nbformat": 4,
 "nbformat_minor": 5
}
