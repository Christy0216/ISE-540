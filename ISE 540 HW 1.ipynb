{
 "cells": [
  {
   "cell_type": "markdown",
   "id": "5eaf6c8b",
   "metadata": {},
   "source": [
    "Name: Shirui Chen\n",
    "ID: 6958613091"
   ]
  },
  {
   "cell_type": "code",
   "execution_count": 1,
   "id": "d8e50f20",
   "metadata": {},
   "outputs": [],
   "source": [
    "import numpy as np\n",
    "import pandas as pd\n",
    "import scipy.stats as stats"
   ]
  },
  {
   "cell_type": "code",
   "execution_count": 2,
   "id": "ce0181e7",
   "metadata": {},
   "outputs": [
    {
     "name": "stdout",
     "output_type": "stream",
     "text": [
      "    Student ID  GPA (Fall 2018)  GPA (Spring 2019)  GPA (Fall 2019)  \\\n",
      "0            1         3.844617           3.822429         3.746725   \n",
      "1            2         3.846063           3.829106         3.744847   \n",
      "2            3         3.808038           3.859870         3.799540   \n",
      "3            4         3.874773           3.790189         3.760929   \n",
      "4            5         3.809578           3.814467         3.739439   \n",
      "5            6         3.794225           3.827233         3.769774   \n",
      "6            7         3.829269           3.787631         3.734325   \n",
      "7            8         3.861227           3.794273         3.717663   \n",
      "8            9         3.818419           3.860642         3.800383   \n",
      "9           10         3.862113           3.780866         3.745992   \n",
      "10          11         3.870117           3.829366         3.791134   \n",
      "11          12         3.793006           3.771761         3.760164   \n",
      "12          13         3.874618           3.805263         3.725387   \n",
      "13          14         3.874199           3.828771         3.782305   \n",
      "14          15         3.878288           3.858791         3.756965   \n",
      "15          16         3.863516           3.834229         3.795174   \n",
      "16          17         3.838579           3.858494         3.769977   \n",
      "17          18         3.813228           3.806945         3.771072   \n",
      "18          19         3.871380           3.829945         3.772166   \n",
      "19          20         3.841848           3.823573         3.773261   \n",
      "20          21         3.836639           3.852364         3.774356   \n",
      "\n",
      "    GPA (Spring 2020)  GPA (Fall 2020)  \n",
      "0            3.887314         3.822250  \n",
      "1            3.931040         3.811969  \n",
      "2            3.850455         3.889819  \n",
      "3            3.857559         3.818584  \n",
      "4            3.907429         3.881837  \n",
      "5            3.883391         3.809893  \n",
      "6            3.910404         3.815262  \n",
      "7            3.934284         3.815234  \n",
      "8            3.864092         3.866889  \n",
      "9            3.880104         3.870564  \n",
      "10           3.915864         3.851299  \n",
      "11           3.941675         3.862341  \n",
      "12           3.876561         3.852568  \n",
      "13           3.926189         3.852747  \n",
      "14           3.858839         3.797446  \n",
      "15           3.861532         3.825444  \n",
      "16           3.891917         3.840825  \n",
      "17           3.891799         3.840892  \n",
      "18           3.891681         3.840958  \n",
      "19           3.891563         3.841025  \n",
      "20           3.891445         3.841091  \n"
     ]
    }
   ],
   "source": [
    "#1\n",
    "df = pd.read_csv('/Users/shiruichen/Desktop/2022 Fall/ISE 540/HW1/ISE540_hw1_data.csv')\n",
    "print(df)"
   ]
  },
  {
   "cell_type": "markdown",
   "id": "c4aadf36",
   "metadata": {},
   "source": [
    "#2\n",
    "H0: The average GPA of the students is equal to 3.5. (G=3.5)\n",
    "Ha: The average GPA of the students is greater than 3.5. (G>3.5)"
   ]
  },
  {
   "cell_type": "code",
   "execution_count": 3,
   "id": "706ae3ab",
   "metadata": {},
   "outputs": [
    {
     "data": {
      "text/plain": [
       "Ttest_1sampResult(statistic=55.82746794511031, pvalue=1.9625584405810766e-23)"
      ]
     },
     "execution_count": 3,
     "metadata": {},
     "output_type": "execute_result"
    }
   ],
   "source": [
    "#3\n",
    "stats.ttest_1samp(df['GPA (Fall 2018)'],3.5)\n",
    "#p<0.05, the p value is significant, we conclude that the null hypothesis should be rejected."
   ]
  },
  {
   "cell_type": "code",
   "execution_count": 4,
   "id": "a3abc5d1",
   "metadata": {},
   "outputs": [
    {
     "data": {
      "text/plain": [
       "Ttest_1sampResult(statistic=54.52000720665524, pvalue=3.1432601095981655e-23)"
      ]
     },
     "execution_count": 4,
     "metadata": {},
     "output_type": "execute_result"
    }
   ],
   "source": [
    "stats.ttest_1samp(df['GPA (Spring 2019)'],3.5)\n",
    "#p<0.05, the p value is significant, we conclude that the null hypothesis should be rejected."
   ]
  },
  {
   "cell_type": "code",
   "execution_count": 5,
   "id": "cf1784f9",
   "metadata": {},
   "outputs": [
    {
     "data": {
      "text/plain": [
       "0.07372107997619093"
      ]
     },
     "execution_count": 5,
     "metadata": {},
     "output_type": "execute_result"
    }
   ],
   "source": [
    "#4\n",
    "GPA2019 = df[['GPA (Spring 2019)','GPA (Fall 2019)']].stack().reset_index(drop=True)\n",
    "mean1 = GPA2019.mean()\n",
    "GPA2020 = df[['GPA (Spring 2020)','GPA (Fall 2020)']].stack().reset_index(drop=True)\n",
    "mean2 = GPA2020.mean()\n",
    "difference = mean2 - mean1\n",
    "difference\n",
    "#The average GPA of 2020 is 0.073 higher than the average GPA of 2019."
   ]
  },
  {
   "cell_type": "code",
   "execution_count": 6,
   "id": "5a50c35f",
   "metadata": {},
   "outputs": [
    {
     "data": {
      "text/plain": [
       "Ttest_indResult(statistic=-8.92108962617397, pvalue=1.0331153357424281e-13)"
      ]
     },
     "execution_count": 6,
     "metadata": {},
     "output_type": "execute_result"
    }
   ],
   "source": [
    "stats.ttest_ind(GPA2019,GPA2020)\n",
    "#The difference between the average GPAs is statistically significant."
   ]
  },
  {
   "cell_type": "code",
   "execution_count": 7,
   "id": "c420719a",
   "metadata": {},
   "outputs": [
    {
     "data": {
      "text/plain": [
       "Ttest_relResult(statistic=-12.674799748178115, pvalue=9.06771210563912e-16)"
      ]
     },
     "execution_count": 7,
     "metadata": {},
     "output_type": "execute_result"
    }
   ],
   "source": [
    "stats.stats.ttest_rel(GPA2019,GPA2020)\n",
    "#The conclusion does not change, the difference between the average GPAs is statistically significant."
   ]
  }
 ],
 "metadata": {
  "kernelspec": {
   "display_name": "Python 3 (ipykernel)",
   "language": "python",
   "name": "python3"
  },
  "language_info": {
   "codemirror_mode": {
    "name": "ipython",
    "version": 3
   },
   "file_extension": ".py",
   "mimetype": "text/x-python",
   "name": "python",
   "nbconvert_exporter": "python",
   "pygments_lexer": "ipython3",
   "version": "3.9.7"
  },
  "vscode": {
   "interpreter": {
    "hash": "31f2aee4e71d21fbe5cf8b01ff0e069b9275f58929596ceb00d14d90e3e16cd6"
   }
  }
 },
 "nbformat": 4,
 "nbformat_minor": 5
}
